{
 "cells": [
  {
   "attachments": {},
   "cell_type": "markdown",
   "metadata": {},
   "source": [
    "# Happyness Report\n",
    "\n",
    "\n",
    "Columns data:\n",
    "- GDP per capita:GDP per capita is a measure of a country's economic output that accounts for its number of people.\n",
    "- Social support:Social support means having friends and other people, including family, to turn to in times of need or crisis to give you a broader focus and positive self-image. Social support enhances quality of life and provides a buffer against adverse life events.\n",
    "- Healthy life expectancy:Healthy Life Expectancy is the average number of years that a newborn can expect to live in \"full health\"—in other words, not hampered by disabling illnesses or injuries.\n",
    "- Freedom to make life choices:Freedom of choice describes an individual's opportunity and autonomy to perform an action selected from at least two available options, unconstrained by external parties.\n",
    "- Generosity:the quality of being kind and generous.\n",
    "- Perceptions of corruption:The Corruption Perceptions Index (CPI) is an index published annually by Transparency International since 1995 which ranks countries \"by their perceived levels of public sector corruption, as determined by expert assessments and opinion surveys."
   ]
  },
  {
   "cell_type": "code",
   "execution_count": null,
   "metadata": {},
   "outputs": [],
   "source": [
    "## Imports\n",
    "import pandas as pd\n",
    "import numpy as np\n",
    "import seaborn as sns\n",
    "import matplotlib.pyplot as plt"
   ]
  },
  {
   "attachments": {},
   "cell_type": "markdown",
   "metadata": {},
   "source": [
    "## 1. Data Visualization"
   ]
  },
  {
   "cell_type": "code",
   "execution_count": 1,
   "metadata": {},
   "outputs": [],
   "source": [
    "## Load the dataset and show the shape and the first rows"
   ]
  },
  {
   "cell_type": "code",
   "execution_count": 2,
   "metadata": {},
   "outputs": [],
   "source": [
    "## Show the types of each column"
   ]
  },
  {
   "cell_type": "code",
   "execution_count": 3,
   "metadata": {},
   "outputs": [],
   "source": [
    "## Show some plots to help how the data looks\n"
   ]
  },
  {
   "cell_type": "code",
   "execution_count": null,
   "metadata": {},
   "outputs": [],
   "source": [
    "## Plotting pairwise relationships in the dataset.\n",
    "\n",
    "f, ax = plt.subplots(figsize= [20, 15])\n",
    "sns.heatmap(df.corr(), annot=True, ax=ax)\n",
    "\n",
    "## Are all attributes on the same scale?"
   ]
  },
  {
   "cell_type": "code",
   "execution_count": null,
   "metadata": {},
   "outputs": [],
   "source": [
    "## Heatmap for correlation among the variables: \n",
    "\n",
    "# sns.heatmap(df.corr())\n",
    "\n",
    "## Are there correlated variables?"
   ]
  },
  {
   "attachments": {},
   "cell_type": "markdown",
   "metadata": {},
   "source": [
    "## 2. Data Normalization"
   ]
  },
  {
   "cell_type": "code",
   "execution_count": null,
   "metadata": {},
   "outputs": [],
   "source": [
    "from sklearn.preprocessing import MinMaxScaler, StandardScaler\n",
    "\n",
    "\n",
    "cols = ['gdp','social_support','life_expectancy','freedom','generosity','corruption']\n",
    "mms = MinMaxScaler()\n",
    "scaler = StandardScaler()\n",
    "\n",
    "df_range = mms.fit_transform(df[cols])\n",
    "df_scaled = pd.DataFrame(scaler.fit_transform(df_range), columns = cols)"
   ]
  },
  {
   "attachments": {},
   "cell_type": "markdown",
   "metadata": {},
   "source": [
    "## 3. Dimension Reduction by PCA"
   ]
  },
  {
   "cell_type": "code",
   "execution_count": null,
   "metadata": {},
   "outputs": [],
   "source": [
    "from sklearn.decomposition import PCA\n",
    "\n",
    "pca = PCA()\n",
    "pca.fit(df_scaled)\n",
    "\n",
    "percentage_variance = np.round(pca.explained_variance_ratio_ * 100, decimals=2)\n",
    "xlabels = ['PC' + str(x) for x in range(1, len(percentage_variance)+1)]\n",
    "\n",
    "plt.plot(range(1,len(percentage_variance)+1), percentage_variance, '-o')\n",
    "plt.axvline(x=3, color='red', linestyle='--')\n",
    "plt.ylabel('Percentage of Explained Variance')\n",
    "plt.xlabel('Principal Component')\n",
    "plt.title('Scree Plot')\n",
    "plt.show()"
   ]
  },
  {
   "cell_type": "code",
   "execution_count": null,
   "metadata": {},
   "outputs": [],
   "source": [
    "pca = PCA(n_components=3,random_state = 7)\n",
    "PC = pca.fit_transform(df_scaled)\n",
    "pca_happiness = pd.DataFrame(data = PC,\n",
    "               columns = ['PC 1', 'PC 2','PC 3'])\n",
    " \n",
    "pca_happiness.head(6)"
   ]
  },
  {
   "attachments": {},
   "cell_type": "markdown",
   "metadata": {},
   "source": [
    "## 4. Clustering\n",
    "### 4.1 K-Means"
   ]
  },
  {
   "cell_type": "code",
   "execution_count": null,
   "metadata": {},
   "outputs": [],
   "source": [
    "from sklearn.cluster import KMeans\n",
    "from sklearn.metrics import silhouette_score, davies_bouldin_score, calinski_harabasz_score\n",
    "\n",
    "## Apply Kmeans with different k and plt the scores\n"
   ]
  },
  {
   "cell_type": "code",
   "execution_count": 4,
   "metadata": {},
   "outputs": [],
   "source": [
    "## Apply Kmeans with the best k"
   ]
  },
  {
   "cell_type": "code",
   "execution_count": 5,
   "metadata": {},
   "outputs": [],
   "source": [
    "## Plot the centroids"
   ]
  },
  {
   "cell_type": "code",
   "execution_count": 6,
   "metadata": {},
   "outputs": [],
   "source": [
    "## Plot some representations of the results"
   ]
  },
  {
   "attachments": {},
   "cell_type": "markdown",
   "metadata": {},
   "source": [
    "### 4.2 Hierarchial Clustering "
   ]
  },
  {
   "cell_type": "code",
   "execution_count": null,
   "metadata": {},
   "outputs": [],
   "source": [
    "from scipy.cluster.hierarchy import linkage, dendrogram\n",
    "\n",
    "fig,ax = plt.subplots(figsize = (15,10))\n",
    "merg = linkage(df, method = \"complete\")\n",
    "dendrogram(merg,leaf_rotation=90)\n",
    "plt.xlabel(\"Countries\")\n",
    "plt.ylabel(\"Distances\")\n",
    "plt.show()"
   ]
  }
 ],
 "metadata": {
  "kernelspec": {
   "display_name": ".venv",
   "language": "python",
   "name": "python3"
  },
  "language_info": {
   "codemirror_mode": {
    "name": "ipython",
    "version": 3
   },
   "file_extension": ".py",
   "mimetype": "text/x-python",
   "name": "python",
   "nbconvert_exporter": "python",
   "pygments_lexer": "ipython3",
   "version": "3.8.0"
  },
  "orig_nbformat": 4
 },
 "nbformat": 4,
 "nbformat_minor": 2
}
